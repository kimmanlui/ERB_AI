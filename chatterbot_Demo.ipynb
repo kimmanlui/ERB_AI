{
  "nbformat": 4,
  "nbformat_minor": 0,
  "metadata": {
    "colab": {
      "provenance": [],
      "toc_visible": true
    },
    "kernelspec": {
      "name": "python3",
      "display_name": "Python 3"
    },
    "language_info": {
      "name": "python"
    }
  },
  "cells": [
    {
      "cell_type": "markdown",
      "metadata": {
        "id": "OtF0N9ztKwaW"
      },
      "source": [
        "# 1 Learning Objective\n",
        "This is to demostrate how a chatbot is developed."
      ]
    },
    {
      "cell_type": "markdown",
      "metadata": {
        "id": "NDSFe1h4J7_7"
      },
      "source": [
        "# 2 Installation\n",
        "\n",
        "\n",
        "\n"
      ]
    },
    {
      "cell_type": "code",
      "metadata": {
        "colab": {
          "base_uri": "https://localhost:8080/"
        },
        "id": "gtgx1jWSJS4v",
        "outputId": "8a4b0ad7-f925-4916-bc0d-270259e77f8e"
      },
      "source": [
        "!pip install  chatterbot"
      ],
      "execution_count": 1,
      "outputs": [
        {
          "output_type": "stream",
          "name": "stdout",
          "text": [
            "Collecting chatterbot\n",
            "  Downloading ChatterBot-1.0.5-py2.py3-none-any.whl (67 kB)\n",
            "\u001b[2K     \u001b[90m━━━━━━━━━━━━━━━━━━━━━━━━━━━━━━━━━━━━━━━━\u001b[0m \u001b[32m67.8/67.8 kB\u001b[0m \u001b[31m1.5 MB/s\u001b[0m eta \u001b[36m0:00:00\u001b[0m\n",
            "\u001b[?25hCollecting mathparse<0.2,>=0.1 (from chatterbot)\n",
            "  Downloading mathparse-0.1.2-py3-none-any.whl (7.2 kB)\n",
            "Requirement already satisfied: nltk<4.0,>=3.2 in /usr/local/lib/python3.10/dist-packages (from chatterbot) (3.8.1)\n",
            "Collecting pint>=0.8.1 (from chatterbot)\n",
            "  Downloading Pint-0.22-py3-none-any.whl (294 kB)\n",
            "\u001b[2K     \u001b[90m━━━━━━━━━━━━━━━━━━━━━━━━━━━━━━━━━━━━━━━━\u001b[0m \u001b[32m294.0/294.0 kB\u001b[0m \u001b[31m9.5 MB/s\u001b[0m eta \u001b[36m0:00:00\u001b[0m\n",
            "\u001b[?25hCollecting pymongo<4.0,>=3.3 (from chatterbot)\n",
            "  Downloading pymongo-3.13.0-cp310-cp310-manylinux_2_17_x86_64.manylinux2014_x86_64.whl (516 kB)\n",
            "\u001b[2K     \u001b[90m━━━━━━━━━━━━━━━━━━━━━━━━━━━━━━━━━━━━━━━━\u001b[0m \u001b[32m516.2/516.2 kB\u001b[0m \u001b[31m36.6 MB/s\u001b[0m eta \u001b[36m0:00:00\u001b[0m\n",
            "\u001b[?25hCollecting python-dateutil<2.8,>=2.7 (from chatterbot)\n",
            "  Downloading python_dateutil-2.7.5-py2.py3-none-any.whl (225 kB)\n",
            "\u001b[2K     \u001b[90m━━━━━━━━━━━━━━━━━━━━━━━━━━━━━━━━━━━━━━━━\u001b[0m \u001b[32m225.7/225.7 kB\u001b[0m \u001b[31m24.4 MB/s\u001b[0m eta \u001b[36m0:00:00\u001b[0m\n",
            "\u001b[?25hCollecting pyyaml<5.2,>=5.1 (from chatterbot)\n",
            "  Downloading PyYAML-5.1.2.tar.gz (265 kB)\n",
            "\u001b[2K     \u001b[90m━━━━━━━━━━━━━━━━━━━━━━━━━━━━━━━━━━━━━━━━\u001b[0m \u001b[32m265.0/265.0 kB\u001b[0m \u001b[31m25.2 MB/s\u001b[0m eta \u001b[36m0:00:00\u001b[0m\n",
            "\u001b[?25h  \u001b[1;31merror\u001b[0m: \u001b[1msubprocess-exited-with-error\u001b[0m\n",
            "  \n",
            "  \u001b[31m×\u001b[0m \u001b[32mpython setup.py egg_info\u001b[0m did not run successfully.\n",
            "  \u001b[31m│\u001b[0m exit code: \u001b[1;36m1\u001b[0m\n",
            "  \u001b[31m╰─>\u001b[0m See above for output.\n",
            "  \n",
            "  \u001b[1;35mnote\u001b[0m: This error originates from a subprocess, and is likely not a problem with pip.\n",
            "  Preparing metadata (setup.py) ... \u001b[?25l\u001b[?25herror\n",
            "\u001b[1;31merror\u001b[0m: \u001b[1mmetadata-generation-failed\u001b[0m\n",
            "\n",
            "\u001b[31m×\u001b[0m Encountered error while generating package metadata.\n",
            "\u001b[31m╰─>\u001b[0m See above for output.\n",
            "\n",
            "\u001b[1;35mnote\u001b[0m: This is an issue with the package mentioned above, not pip.\n",
            "\u001b[1;36mhint\u001b[0m: See above for details.\n"
          ]
        }
      ]
    },
    {
      "cell_type": "code",
      "metadata": {
        "colab": {
          "base_uri": "https://localhost:8080/"
        },
        "id": "291026g3KPSr",
        "outputId": "02db0eb7-da06-4881-aeb3-e241c09fb3e8"
      },
      "source": [
        "!pip install chatterbot_corpus"
      ],
      "execution_count": null,
      "outputs": [
        {
          "output_type": "stream",
          "name": "stdout",
          "text": [
            "Collecting chatterbot_corpus\n",
            "  Downloading chatterbot_corpus-1.2.0-py2.py3-none-any.whl (117 kB)\n",
            "\u001b[?25l\r\u001b[K     |██▉                             | 10 kB 22.5 MB/s eta 0:00:01\r\u001b[K     |█████▋                          | 20 kB 29.5 MB/s eta 0:00:01\r\u001b[K     |████████▍                       | 30 kB 33.0 MB/s eta 0:00:01\r\u001b[K     |███████████▏                    | 40 kB 21.5 MB/s eta 0:00:01\r\u001b[K     |██████████████                  | 51 kB 11.8 MB/s eta 0:00:01\r\u001b[K     |████████████████▊               | 61 kB 11.7 MB/s eta 0:00:01\r\u001b[K     |███████████████████▋            | 71 kB 10.7 MB/s eta 0:00:01\r\u001b[K     |██████████████████████▍         | 81 kB 12.0 MB/s eta 0:00:01\r\u001b[K     |█████████████████████████▏      | 92 kB 9.5 MB/s eta 0:00:01\r\u001b[K     |████████████████████████████    | 102 kB 10.3 MB/s eta 0:00:01\r\u001b[K     |██████████████████████████████▊ | 112 kB 10.3 MB/s eta 0:00:01\r\u001b[K     |████████████████████████████████| 117 kB 10.3 MB/s \n",
            "\u001b[?25hRequirement already satisfied: PyYAML<4.0,>=3.12 in /usr/local/lib/python3.7/dist-packages (from chatterbot_corpus) (3.13)\n",
            "Installing collected packages: chatterbot-corpus\n",
            "Successfully installed chatterbot-corpus-1.2.0\n"
          ]
        }
      ]
    },
    {
      "cell_type": "markdown",
      "metadata": {
        "id": "qp5K6TjKLAxO"
      },
      "source": [
        "# 3 Import Library"
      ]
    },
    {
      "cell_type": "code",
      "metadata": {
        "id": "KWqXu9PHJinA"
      },
      "source": [
        "from chatterbot import ChatBot"
      ],
      "execution_count": null,
      "outputs": []
    },
    {
      "cell_type": "markdown",
      "metadata": {
        "id": "boDrlVdELWEh"
      },
      "source": [
        "# 4 Create a ChatBot Object"
      ]
    },
    {
      "cell_type": "code",
      "metadata": {
        "id": "xAaP_pOzLXHy"
      },
      "source": [
        "bot = ChatBot('MyBuddy')"
      ],
      "execution_count": null,
      "outputs": []
    },
    {
      "cell_type": "markdown",
      "metadata": {
        "id": "n1SUe5fBLp8Z"
      },
      "source": [
        "# 5 Import Trainer Library"
      ]
    },
    {
      "cell_type": "code",
      "metadata": {
        "id": "FdbPOVXjLqHM"
      },
      "source": [
        "from chatterbot.trainers import ListTrainer"
      ],
      "execution_count": null,
      "outputs": []
    },
    {
      "cell_type": "markdown",
      "metadata": {
        "id": "bAIn9Bb-L2LH"
      },
      "source": [
        " # 6 Create a Trainer Object"
      ]
    },
    {
      "cell_type": "code",
      "metadata": {
        "id": "1L02WeScL2Tf"
      },
      "source": [
        "trainer = ListTrainer(bot)"
      ],
      "execution_count": null,
      "outputs": []
    },
    {
      "cell_type": "markdown",
      "metadata": {
        "id": "jMlmWY8WL_jD"
      },
      "source": [
        "# 7 Training the chatbot"
      ]
    },
    {
      "cell_type": "code",
      "metadata": {
        "colab": {
          "base_uri": "https://localhost:8080/"
        },
        "id": "_C65gpNkL_6H",
        "outputId": "a996bc8e-5ce6-41bc-d4ff-3608d91723c6"
      },
      "source": [
        "trainer.train([\n",
        "'Hi',\n",
        "'Hello',\n",
        "'I need your assistance regarding my order',\n",
        "'Please, Provide me with your order id',\n",
        "'I have a complaint.',\n",
        "'Please elaborate, your concern',\n",
        "'How long it will take to receive an order ?',\n",
        "'An order takes 3-5 Business days to get delivered.',\n",
        "'Okay Thanks',\n",
        "'No Problem! Have a Good Day!'\n",
        "])"
      ],
      "execution_count": null,
      "outputs": [
        {
          "output_type": "stream",
          "name": "stdout",
          "text": [
            "List Trainer: [####################] 100%\n"
          ]
        }
      ]
    },
    {
      "cell_type": "markdown",
      "metadata": {
        "id": "LYaFFkPMMHNi"
      },
      "source": [
        "# 8 Chatbot Testing"
      ]
    },
    {
      "cell_type": "code",
      "metadata": {
        "colab": {
          "base_uri": "https://localhost:8080/"
        },
        "id": "81nSqSGNMNVE",
        "outputId": "6d9e494f-b7c5-4403-d361-d15b958cee13"
      },
      "source": [
        "response = bot.get_response('I have a complaint.')\n",
        "print (response.confidence)\n",
        "print(\"Bot Response:\", response)\n"
      ],
      "execution_count": null,
      "outputs": [
        {
          "output_type": "stream",
          "name": "stdout",
          "text": [
            "1.0\n",
            "Bot Response: Please elaborate, your concern\n"
          ]
        }
      ]
    },
    {
      "cell_type": "markdown",
      "source": [
        "# 9 Exercise\n",
        "Develop an FAQ chatbot for study abroad"
      ],
      "metadata": {
        "id": "TX1tM_lTuu-M"
      }
    }
  ]
}
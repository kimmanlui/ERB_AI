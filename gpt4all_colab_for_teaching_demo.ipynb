{
  "cells": [
    {
      "cell_type": "code",
      "source": [
        "!pip install gpt4all"
      ],
      "metadata": {
        "colab": {
          "base_uri": "https://localhost:8080/"
        },
        "id": "CSpz_Wqz2gah",
        "outputId": "4833b0c9-4437-4e4a-87f7-a7e1a7e722e7"
      },
      "execution_count": null,
      "outputs": [
        {
          "output_type": "stream",
          "name": "stdout",
          "text": [
            "Collecting gpt4all\n",
            "  Downloading gpt4all-1.0.6-py3-none-manylinux1_x86_64.whl (3.6 MB)\n",
            "\u001b[2K     \u001b[90m━━━━━━━━━━━━━━━━━━━━━━━━━━━━━━━━━━━━━━━━\u001b[0m \u001b[32m3.6/3.6 MB\u001b[0m \u001b[31m14.6 MB/s\u001b[0m eta \u001b[36m0:00:00\u001b[0m\n",
            "\u001b[?25hRequirement already satisfied: requests in /usr/local/lib/python3.10/dist-packages (from gpt4all) (2.27.1)\n",
            "Requirement already satisfied: tqdm in /usr/local/lib/python3.10/dist-packages (from gpt4all) (4.65.0)\n",
            "Requirement already satisfied: urllib3<1.27,>=1.21.1 in /usr/local/lib/python3.10/dist-packages (from requests->gpt4all) (1.26.16)\n",
            "Requirement already satisfied: certifi>=2017.4.17 in /usr/local/lib/python3.10/dist-packages (from requests->gpt4all) (2023.5.7)\n",
            "Requirement already satisfied: charset-normalizer~=2.0.0 in /usr/local/lib/python3.10/dist-packages (from requests->gpt4all) (2.0.12)\n",
            "Requirement already satisfied: idna<4,>=2.5 in /usr/local/lib/python3.10/dist-packages (from requests->gpt4all) (3.4)\n",
            "Installing collected packages: gpt4all\n",
            "Successfully installed gpt4all-1.0.6\n"
          ]
        }
      ]
    },
    {
      "cell_type": "code",
      "source": [
        "from gpt4all import GPT4All\n",
        "model_name=\"orca-mini-3b.ggmlv3.q4_0.bin\"\n",
        "model = GPT4All(model_name)\n"
      ],
      "metadata": {
        "id": "fQlQ86S1Z9hI",
        "colab": {
          "base_uri": "https://localhost:8080/"
        },
        "outputId": "a157829f-7137-46c9-f3ab-2da6f292d283"
      },
      "execution_count": null,
      "outputs": [
        {
          "output_type": "stream",
          "name": "stderr",
          "text": [
            "100%|██████████| 1.93G/1.93G [00:08<00:00, 219MiB/s]\n"
          ]
        },
        {
          "output_type": "stream",
          "name": "stdout",
          "text": [
            "Model downloaded at:  /root/.cache/gpt4all/orca-mini-3b.ggmlv3.q4_0.bin\n"
          ]
        }
      ]
    },
    {
      "cell_type": "code",
      "source": [],
      "metadata": {
        "id": "i1tb8vjxgIIe"
      },
      "execution_count": null,
      "outputs": []
    },
    {
      "cell_type": "code",
      "source": [
        "output = model.generate(\"The population of Hong Kong is  \", max_tokens=10, top_k=1 )\n",
        "print(output)"
      ],
      "metadata": {
        "id": "Cs0k45sqagEq",
        "colab": {
          "base_uri": "https://localhost:8080/"
        },
        "outputId": "9f900e2c-a85c-4e61-da66-9c76b2e6f575"
      },
      "execution_count": null,
      "outputs": [
        {
          "output_type": "stream",
          "name": "stdout",
          "text": [
            "7.4 million, with a land area of\n"
          ]
        }
      ]
    },
    {
      "cell_type": "code",
      "source": [
        "output = model.generate(\"Welcome to this AI course for absolute beginners in 2023  \", max_tokens=100)\n",
        "print(output)"
      ],
      "metadata": {
        "colab": {
          "base_uri": "https://localhost:8080/"
        },
        "id": "kYUGoOATr0Cj",
        "outputId": "9b83c51a-e2f1-4c36-cec9-826f3f2ed031"
      },
      "execution_count": null,
      "outputs": [
        {
          "output_type": "stream",
          "name": "stdout",
          "text": [
            "����\n",
            "This is a beginner-friendly course on artificial intelligence (AI) that will cover the essential concepts and tools needed to get started with AI development. You'll learn about the different types of AI, including machine learning, deep learning, natural language processing, computer vision, and robotics. We'll also explore ethical considerations in AI and discuss how to ensure that your AI applications are transparent and accountable. By the end of this course, you will have a solid understanding\n"
          ]
        }
      ]
    },
    {
      "cell_type": "markdown",
      "source": [],
      "metadata": {
        "id": "GXlvYGgs3ZGE"
      }
    },
    {
      "cell_type": "code",
      "source": [
        "output = model.generate(\"Topics of an artificial intelligence beginner course are \", max_tokens=100)\n",
        "print(output)"
      ],
      "metadata": {
        "colab": {
          "base_uri": "https://localhost:8080/"
        },
        "id": "xXvEOwBC3a37",
        "outputId": "b74bcf46-9c68-41c3-ba61-35dfe55146c2"
      },
      "execution_count": null,
      "outputs": [
        {
          "output_type": "stream",
          "name": "stdout",
          "text": [
            "1. Introduction to AI, 2. Natural Language Processing, 3. Machine Learning, 4. Computer Vision, 5. Robotics and Automation, 6. Neural Networks, 7. Deep Learning, 8. Ethics and Society, and 9. Future of AI.\n",
            "The course is designed for anyone who wants to learn about the basics of artificial intelligence. It is suitable for beginners as well as professionals looking to expand their knowledge in this field. The course covers\n"
          ]
        }
      ]
    },
    {
      "cell_type": "code",
      "source": [
        "output = model.generate(\"The mathematics behind Deep learning is  \", max_tokens=100)\n",
        "print(output)"
      ],
      "metadata": {
        "colab": {
          "base_uri": "https://localhost:8080/"
        },
        "id": "Qj1gNHCB9w9i",
        "outputId": "a2a35796-6451-4ebf-8a4b-6f074a4afc2c"
      },
      "execution_count": null,
      "outputs": [
        {
          "output_type": "stream",
          "name": "stdout",
          "text": [
            "\n",
            "\n",
            "Deep learning is a subset of machine learning that uses artificial neural networks to learn from data. It involves building deep architectures composed of multiple layers of interconnected nodes, called neurons, which process complex information by performing mathematical operations on their inputs and producing output predictions based on weighted connections between the neurons. The mathematics behind deep learning can be broken down into several key concepts:\n",
            "\n",
            "1. Neural Networks - A neural network is a set of interconnected nodes (neurons) that perform mathematical\n"
          ]
        }
      ]
    },
    {
      "cell_type": "code",
      "source": [
        "output = model.generate(\"The popular programming languages for  artificial intelligence are  \", max_tokens=100)\n",
        "print(output)"
      ],
      "metadata": {
        "id": "53YkR8fd9eFM",
        "colab": {
          "base_uri": "https://localhost:8080/"
        },
        "outputId": "8b12f935-d9a3-4b5f-8db0-80ec5fe37122"
      },
      "execution_count": null,
      "outputs": [
        {
          "output_type": "stream",
          "name": "stdout",
          "text": [
            "\n",
            "\n",
            "* Python\n",
            "* Java\n",
            "* C++\n",
            "* JavaScript\n",
            "* Ruby\n",
            "* Swift\n",
            "\n",
            "I have experience with all of these languages and can help you learn any of them if needed.\n"
          ]
        }
      ]
    },
    {
      "cell_type": "code",
      "source": [
        "output = model.generate(\"The jobs replaced by artificial intelligence could be  \", max_tokens=100)\n",
        "print(output)"
      ],
      "metadata": {
        "colab": {
          "base_uri": "https://localhost:8080/"
        },
        "id": "xssAl_Pthp5I",
        "outputId": "43665f71-0d5e-4e3d-a9bf-49783a49425e"
      },
      "execution_count": null,
      "outputs": [
        {
          "output_type": "stream",
          "name": "stdout",
          "text": [
            "10 times more than the number of new jobs created in the same period.\n",
            "This is a big concern for many people, especially those who are worried about their job security. However, it's important to remember that while AI may replace some jobs, it will also create new types of jobs that require different skills and abilities. Additionally, many of these new jobs will be in fields where AI cannot yet compete with human labor, such as healthcare, education, and customer service.\n"
          ]
        }
      ]
    }
  ],
  "metadata": {
    "colab": {
      "provenance": []
    },
    "kernelspec": {
      "display_name": "Python 3",
      "name": "python3"
    },
    "language_info": {
      "name": "python"
    }
  },
  "nbformat": 4,
  "nbformat_minor": 0
}